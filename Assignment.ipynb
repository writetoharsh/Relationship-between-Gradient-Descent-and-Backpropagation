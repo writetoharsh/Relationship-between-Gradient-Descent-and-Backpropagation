{
  "nbformat": 4,
  "nbformat_minor": 0,
  "metadata": {
    "colab": {
      "name": "Assignment.ipynb",
      "provenance": [],
      "collapsed_sections": []
    },
    "kernelspec": {
      "name": "python3",
      "display_name": "Python 3"
    }
  },
  "cells": [
    {
      "cell_type": "code",
      "metadata": {
        "id": "dVIYGm4Yj_6k"
      },
      "source": [
        "import numpy as np"
      ],
      "execution_count": 1,
      "outputs": []
    },
    {
      "cell_type": "code",
      "metadata": {
        "colab": {
          "base_uri": "https://localhost:8080/"
        },
        "id": "KRMr-9RnkJ2U",
        "outputId": "2d19a9af-64a3-4e8e-d8ac-4ce0d8b8dc35"
      },
      "source": [
        "class NeuralNetwork:\r\n",
        "    def __init__(self):\r\n",
        "        np.random.seed(10) \r\n",
        "        self.wij   = np.random.rand(3,4) \r\n",
        "        self.wjk   = np.random.rand(4,1) \r\n",
        "        \r\n",
        "    def sigmoid(self, x, w):\r\n",
        "        z = np.dot(x, w)\r\n",
        "        return 1/(1 + np.exp(-z))\r\n",
        "    \r\n",
        "    def sigmoid_derivative(self, x, w):\r\n",
        "        return self.sigmoid(x, w) * (1 - self.sigmoid(x, w))\r\n",
        "    \r\n",
        "    def gradient_descent(self, x, y, iterations):\r\n",
        "        for i in range(iterations):\r\n",
        "            Xi = x\r\n",
        "            Xj = self.sigmoid(Xi, self.wij)\r\n",
        "            yhat = self.sigmoid(Xj, self.wjk)\r\n",
        "            g_wjk = np.dot(Xj.T, (y - yhat) * self.sigmoid_derivative(Xj, self.wjk))\r\n",
        "            g_wij = np.dot(Xi.T, np.dot((y - yhat) * self.sigmoid_derivative(Xj, self.wjk), self.wjk.T) * self.sigmoid_derivative(Xi, self.wij))\r\n",
        "            self.wij += g_wij\r\n",
        "            self.wjk += g_wjk\r\n",
        "        print('The final prediction from neural network are: ')\r\n",
        "        print(yhat)\r\n",
        "        \r\n",
        "if __name__ == '__main__':\r\n",
        "    neural_network = NeuralNetwork()\r\n",
        "    print('Random starting input to hidden weights: ')\r\n",
        "    print(neural_network.wij)\r\n",
        "    print('Random starting hidden to output weights: ')\r\n",
        "    print(neural_network.wjk)\r\n",
        "    X = np.array([[0, 0, 1], [1, 1, 1], [1, 0, 1], [0, 1, 1]])\r\n",
        "    y = np.array([[0, 1, 1, 0]]).T\r\n",
        "    neural_network.gradient_descent(X, y, 10000)"
      ],
      "execution_count": 2,
      "outputs": [
        {
          "output_type": "stream",
          "text": [
            "Random starting input to hidden weights: \n",
            "[[0.77132064 0.02075195 0.63364823 0.74880388]\n",
            " [0.49850701 0.22479665 0.19806286 0.76053071]\n",
            " [0.16911084 0.08833981 0.68535982 0.95339335]]\n",
            "Random starting hidden to output weights: \n",
            "[[0.00394827]\n",
            " [0.51219226]\n",
            " [0.81262096]\n",
            " [0.61252607]]\n",
            "The final prediction from neural network are: \n",
            "[[0.00572029]\n",
            " [0.99442052]\n",
            " [0.99527493]\n",
            " [0.00467507]]\n"
          ],
          "name": "stdout"
        }
      ]
    }
  ]
}